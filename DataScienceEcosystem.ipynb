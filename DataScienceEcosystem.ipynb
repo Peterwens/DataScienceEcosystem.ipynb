{
 "cells": [
  {
   "cell_type": "markdown",
   "id": "497740d9",
   "metadata": {},
   "source": [
    "# In this notebook, Data Science Tools and Ecosystem are summarized. \n"
   ]
  },
  {
   "cell_type": "markdown",
   "id": "d651906c",
   "metadata": {},
   "source": [
    "In this notebook, Data Science Tools and Ecosystem are summarized."
   ]
  },
  {
   "cell_type": "markdown",
   "id": "14a59c4b",
   "metadata": {},
   "source": [
    "**Objectives**\n",
    "-Introduction to Git and Github\n",
    "-Introduction to  python\n",
    "-Introduction to Jupiter notebook"
   ]
  },
  {
   "cell_type": "markdown",
   "id": "4faf813d",
   "metadata": {},
   "source": [
    "Some of the popular languages that Data Scientists use are:\n",
    "1. Python\n",
    "2. R\n",
    "3. Sql",
    "4. Scala",
    "5. Julia",
    "6. Javascript",
    "7. PHP",
    "8. Go",
    "9. Ruby",
    "10. Visual Basic",

   ]
  },
  {
   "cell_type": "markdown",
   "id": "004237b6",
   "metadata": {},
   "source": [
    "Some of the commonly used libraries used by Data Scientists include:\n",
    "1. Pandas\n",
    "2. Numpy\n",
    "3. Matplolib"
   ]
  },
  {
   "cell_type": "markdown",
   "id": "c8b08bee",
   "metadata": {},
   "source": [
    "| Data Science Tools|\n",
    "| -------------|\n",
    "|  Python|\n",
    "| Github |\n",
    "| Jupyter notebook |"
   ]
  },
  {
   "cell_type": "markdown",
   "id": "9ca50f25",
   "metadata": {},
   "source": [
    "### Below are a few examples of evaluating arithmetic expressions in Python"
   ]
  },
  {
   "cell_type": "code",
   "execution_count": 2,
   "id": "a78644f3",
   "metadata": {},
   "outputs": [
    {
     "data": {
      "text/plain": [
       "17"
      ]
     },
     "execution_count": 2,
     "metadata": {},
     "output_type": "execute_result"
    }
   ],
   "source": [
    "#This a simple arithmetic expression to mutiply then add integers\n",
    "(3*4)+5"
   ]
  },
  {
   "cell_type": "code",
   "execution_count": 3,
   "id": "797046fb",
   "metadata": {},
   "outputs": [
    {
     "data": {
      "text/plain": [
       "3.3333333333333335"
      ]
     },
     "execution_count": 3,
     "metadata": {},
     "output_type": "execute_result"
    }
   ],
   "source": [
    "#This will convert 200 minutes to hours by diving by 60\n",
    "200/60"
   ]
  },
  {
   "cell_type": "markdown",
   "id": "bd2a6031",
   "metadata": {},
   "source": [
    "## Author\n",
    "Peterwens dourolph Denival"
   ]
  }
 ],
 "metadata": {
  "kernelspec": {
   "display_name": "Python 3 (ipykernel)",
   "language": "python",
   "name": "python3"
  },
  "language_info": {
   "codemirror_mode": {
    "name": "ipython",
    "version": 3
   },
   "file_extension": ".py",
   "mimetype": "text/x-python",
   "name": "python",
   "nbconvert_exporter": "python",
   "pygments_lexer": "ipython3",
   "version": "3.11.5"
  }
 },
 "nbformat": 4,
 "nbformat_minor": 5
}
