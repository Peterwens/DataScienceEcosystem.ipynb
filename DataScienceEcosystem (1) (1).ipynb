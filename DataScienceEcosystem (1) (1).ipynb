{
 "cells": [
  {
   "cell_type": "markdown",
   "id": "e911bd21",
   "metadata": {},
   "source": [
    "# In this notebook, Data Science Tools and Ecosystem are summarized. \n"
   ]
  },
  {
   "cell_type": "markdown",
   "id": "ee54a2ac",
   "metadata": {},
   "source": [
    "In this notebook, Data Science Tools and Ecosystem are summarized."
   ]
  },
  {
   "cell_type": "markdown",
   "id": "8e8e264b",
   "metadata": {},
   "source": [
    "**Objectives**\n",
    "- Introduction to Git and Github\n",
    "- Introduction to  python\n",
    "- Introduction to Jupiter notebook\n",
    "- Watson studio"
   ]
  },
  {
   "cell_type": "markdown",
   "id": "bae8813d",
   "metadata": {},
   "source": [
    "Some of the popular languages that Data Scientists use are:\n",
    "1. Python\n",
    "2. R\n",
    "3. Sql\n",
    "4. Scala\n",
    "5. Julia\n",
    "6. Javascript\n",
    "7. PHP\n",
    "8. Go\n",
    "9. Ruby\n",
    "10. Visual Basic"
   ]
  },
  {
   "cell_type": "markdown",
   "id": "5d0a6198",
   "metadata": {},
   "source": [
    "Some of the commonly used libraries used by Data Scientists include:\n",
    "1. Pandas\n",
    "2. Numpy\n",
    "3. Matplolib\n",
    "4. Scikit-learn\n",
    "5. Keras\n",
    "6. TensorFlow\n",
    "7. PyTorch"
   ]
  },
  {
   "cell_type": "markdown",
   "id": "65bd975a",
   "metadata": {},
   "source": [
    "| Data Science Tools|\n",
    "| -------------|\n",
    "|  Python|\n",
    "| Github |\n",
    "| Jupyter notebook |\n",
    "| Anaconda |\n",
    "| Snyder |"
   ]
  },
  {
   "cell_type": "markdown",
   "id": "e748b550",
   "metadata": {},
   "source": [
    "### Below are a few examples of evaluating arithmetic expressions in Python"
   ]
  },
  {
   "cell_type": "code",
   "execution_count": 3,
   "id": "5e34b4e3",
   "metadata": {},
   "outputs": [
    {
     "data": {
      "text/plain": [
       "17"
      ]
     },
     "execution_count": 3,
     "metadata": {},
     "output_type": "execute_result"
    }
   ],
   "source": [
    "#This a simple arithmetic expression to mutiply then add integers\n",
    "(3*4)+5"
   ]
  },
  {
   "cell_type": "code",
   "execution_count": 1,
   "id": "b7d782bc",
   "metadata": {},
   "outputs": [
    {
     "data": {
      "text/plain": [
       "3.3333333333333335"
      ]
     },
     "execution_count": 1,
     "metadata": {},
     "output_type": "execute_result"
    }
   ],
   "source": [
    "#This will convert 200 minutes to hours by diving by 60\n",
    "200/60"
   ]
  },
  {
   "cell_type": "markdown",
   "id": "90645aa0",
   "metadata": {},
   "source": [
    "## Author\n",
    "Peterwens dourolph Denival"
   ]
  }
 ],
 "metadata": {
  "kernelspec": {
   "display_name": "Python 3 (ipykernel)",
   "language": "python",
   "name": "python3"
  },
  "language_info": {
   "codemirror_mode": {
    "name": "ipython",
    "version": 3
   },
   "file_extension": ".py",
   "mimetype": "text/x-python",
   "name": "python",
   "nbconvert_exporter": "python",
   "pygments_lexer": "ipython3",
   "version": "3.11.5"
  }
 },
 "nbformat": 4,
 "nbformat_minor": 5
}
